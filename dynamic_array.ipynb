{
 "cells": [
  {
   "cell_type": "code",
   "execution_count": 1,
   "metadata": {},
   "outputs": [],
   "source": [
    "import ctypes\n",
    "\n",
    "class meralist():\n",
    "    def __init__(self):\n",
    "        self.size = 1\n",
    "        self.n = 0\n",
    "        self.A = self.create_array(self.size)\n",
    "    \n",
    "    # 2\n",
    "    def __len__(self):\n",
    "        return self.n\n",
    "\n",
    "    # 5\n",
    "    def __str__(self):\n",
    "        result = ''\n",
    "        for i in range(self.n):\n",
    "            result = result + str(self.A[i]) + ','\n",
    "        return '[' + result[:-1] + ']'\n",
    "    \n",
    "    # 6\n",
    "    def __getitem__(self,index):\n",
    "        if 0<= index < self.n:\n",
    "            return self.A[index]\n",
    "        else:\n",
    "            return \"Index error!!!!! \"\n",
    "        \n",
    "    \n",
    "    # 3\n",
    "    def append(self, item):\n",
    "        if self.n == self.size:\n",
    "            # Resize\n",
    "            self.__resize(self.size * 2)\n",
    "        # Append\n",
    "        self.A[self.n] = item\n",
    "        self.n += 1 \n",
    "    \n",
    "    # 7 \n",
    "    def pop(self):\n",
    "        if self.n == 0:\n",
    "            return 'Empty list'\n",
    "        \n",
    "        print(self.A[self.n-1])\n",
    "        self.n = self.n - 1 \n",
    "    \n",
    "    # 8     \n",
    "    def clear(self):\n",
    "        self.n = 0 \n",
    "        self.size = 1\n",
    "    \n",
    "    # 9 \n",
    "    def find(self,item):\n",
    "        for i in range(self.n):\n",
    "            if self.A[i]== item:\n",
    "                return i \n",
    "            \n",
    "        return 'Value Error'\n",
    "    \n",
    "    # 10 \n",
    "    def insert(self,pos,item):\n",
    "        \n",
    "        if self.n == self.size:\n",
    "            self.__resize(self.size*2)\n",
    "\n",
    "        for i in range(self.n,pos,-1):\n",
    "        #shifting \n",
    "            self.A[i] = self.A[i-1]\n",
    "        \n",
    "        self.A[pos] = item\n",
    "        self.n = self.n + 1\n",
    "        \n",
    "    # 11 \n",
    "    def __delitem__(self,pos):\n",
    "        if 0 <= pos < self.n:\n",
    "            for i in range(pos,self.n-1):\n",
    "                self.A[i]= self.A[i+1]\n",
    "                \n",
    "            self.n = self.n-1\n",
    "            \n",
    "    # 12 \n",
    "    def remove(self,item):\n",
    "        pos = self.find(item)\n",
    "        \n",
    "        if type(pos)== int:\n",
    "            self.__delitem__(pos)\n",
    "        else:\n",
    "            return pos\n",
    "    # 4\n",
    "    def __resize(self, new_capacity):\n",
    "        # Create new array with new capacity\n",
    "        B = self.create_array(new_capacity)\n",
    "        self.size = new_capacity \n",
    "        \n",
    "        # Copy the array A to B\n",
    "        for i in range(self.n):\n",
    "            B[i] = self.A[i]\n",
    "        \n",
    "        # Re-assign A after copying is complete\n",
    "        self.A = B\n",
    "        \n",
    "    # 1 \n",
    "    def create_array(self, capacity):\n",
    "        # ctype array \n",
    "        return (capacity * ctypes.py_object)()\n",
    "\n"
   ]
  },
  {
   "cell_type": "code",
   "execution_count": 2,
   "metadata": {},
   "outputs": [],
   "source": [
    "l = meralist()\n",
    "l.append(1)\n",
    "l.append(2)\n",
    "l.append(3)\n",
    "l.append(4)"
   ]
  },
  {
   "cell_type": "code",
   "execution_count": 3,
   "metadata": {},
   "outputs": [
    {
     "name": "stdout",
     "output_type": "stream",
     "text": [
      "[1,2,3,4]\n"
     ]
    }
   ],
   "source": [
    "print(l)"
   ]
  },
  {
   "cell_type": "code",
   "execution_count": null,
   "metadata": {},
   "outputs": [],
   "source": [
    "l.pop()"
   ]
  },
  {
   "cell_type": "code",
   "execution_count": 28,
   "metadata": {},
   "outputs": [],
   "source": [
    "l.clear()"
   ]
  },
  {
   "cell_type": "code",
   "execution_count": null,
   "metadata": {},
   "outputs": [],
   "source": [
    "l.find(4)"
   ]
  },
  {
   "cell_type": "code",
   "execution_count": 49,
   "metadata": {},
   "outputs": [],
   "source": [
    "l.insert(2,10)"
   ]
  },
  {
   "cell_type": "code",
   "execution_count": 4,
   "metadata": {},
   "outputs": [],
   "source": [
    "del l[0]"
   ]
  },
  {
   "cell_type": "code",
   "execution_count": 5,
   "metadata": {},
   "outputs": [
    {
     "name": "stdout",
     "output_type": "stream",
     "text": [
      "[2,3,4]\n"
     ]
    }
   ],
   "source": [
    "print(l)"
   ]
  },
  {
   "cell_type": "code",
   "execution_count": null,
   "metadata": {},
   "outputs": [],
   "source": [
    "l.remove(1)"
   ]
  }
 ],
 "metadata": {
  "kernelspec": {
   "display_name": "Python 3",
   "language": "python",
   "name": "python3"
  },
  "language_info": {
   "codemirror_mode": {
    "name": "ipython",
    "version": 3
   },
   "file_extension": ".py",
   "mimetype": "text/x-python",
   "name": "python",
   "nbconvert_exporter": "python",
   "pygments_lexer": "ipython3",
   "version": "3.12.5"
  }
 },
 "nbformat": 4,
 "nbformat_minor": 2
}
